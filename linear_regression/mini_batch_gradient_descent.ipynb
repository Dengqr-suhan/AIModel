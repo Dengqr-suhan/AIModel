{
 "cells": [
  {
   "cell_type": "code",
   "execution_count": 16,
   "metadata": {},
   "outputs": [],
   "source": [
    "import numpy as np"
   ]
  },
  {
   "cell_type": "code",
   "execution_count": 17,
   "metadata": {},
   "outputs": [],
   "source": [
    "#创建数据集X， y\n",
    "X = np.random.rand(100,1)\n",
    "y =4 + 3*X + np.random.randn(100,1)\n",
    "X_b = np.c_[np.ones((100,1)), X]"
   ]
  },
  {
   "cell_type": "code",
   "execution_count": 18,
   "metadata": {},
   "outputs": [],
   "source": [
    "learning_rate = 0.0001\n",
    "n_epochs =1000\n",
    "m = 100\n",
    "batch_size = 10\n",
    "num_batches = int(m/batch_size)\n"
   ]
  },
  {
   "cell_type": "code",
   "execution_count": 19,
   "metadata": {},
   "outputs": [
    {
     "data": {
      "text/plain": [
       "array([[4.12450245],\n",
       "       [2.65752799]])"
      ]
     },
     "execution_count": 19,
     "metadata": {},
     "output_type": "execute_result"
    }
   ],
   "source": [
    "theta = np.random.randn(2,1)\n",
    "for epoch in range(n_epochs):\n",
    "    for _ in range(num_batches):\n",
    "        random_index = np.random.randint(m)\n",
    "        x_batch = X_b[random_index:random_index+batch_size]\n",
    "        y_batch = y[random_index:random_index+batch_size]\n",
    "        gradients = x_batch.T.dot(x_batch.dot(theta) - y_batch)\n",
    "        theta = theta - learning_rate * gradients\n",
    "theta"
   ]
  },
  {
   "cell_type": "markdown",
   "metadata": {},
   "source": [
    "改进(既保证打乱顺序也保证随机)"
   ]
  },
  {
   "cell_type": "code",
   "execution_count": 20,
   "metadata": {},
   "outputs": [
    {
     "data": {
      "text/plain": [
       "array([[4.12425135],\n",
       "       [2.68866852]])"
      ]
     },
     "execution_count": 20,
     "metadata": {},
     "output_type": "execute_result"
    }
   ],
   "source": [
    "theta = np.random.randn(2,1)\n",
    "for epoch in range(n_epochs):\n",
    "    #在双层for循环之间，每个轮次开始分批次迭代之前打乱数据索引的顺序\n",
    "    arr = np.arange(len(X_b))\n",
    "    np.random.shuffle(arr)\n",
    "    X_b = X_b[arr]\n",
    "    y = y[arr]\n",
    "    for i in range(num_batches):\n",
    "        x_batch = X_b[i*batch_size:i*batch_size+batch_size]\n",
    "        y_batch = y[i*batch_size:i*batch_size+batch_size]\n",
    "        gradients = x_batch.T.dot(x_batch.dot(theta) - y_batch)\n",
    "        theta = theta - learning_rate * gradients\n",
    "theta"
   ]
  }
 ],
 "metadata": {
  "kernelspec": {
   "display_name": "d2l",
   "language": "python",
   "name": "python3"
  },
  "language_info": {
   "codemirror_mode": {
    "name": "ipython",
    "version": 3
   },
   "file_extension": ".py",
   "mimetype": "text/x-python",
   "name": "python",
   "nbconvert_exporter": "python",
   "pygments_lexer": "ipython3",
   "version": "3.9.18"
  }
 },
 "nbformat": 4,
 "nbformat_minor": 2
}
