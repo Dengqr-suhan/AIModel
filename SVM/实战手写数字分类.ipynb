{
 "cells": [
  {
   "cell_type": "markdown",
   "metadata": {},
   "source": [
    "数据集下载链接：https://pan.baidu.com/s/1NWYEyfE06anmE3z4NBS5JA?pwd=dl5t \n",
    "提取码：dl5t \n",
    "--来自百度网盘超级会员V3的分享"
   ]
  },
  {
   "cell_type": "code",
   "execution_count": 76,
   "metadata": {},
   "outputs": [],
   "source": [
    "import pandas as pd\n",
    "import numpy as np\n",
    "import matplotlib.pyplot as plt\n",
    "from sklearn import svm\n",
    "from sklearn.model_selection import train_test_split"
   ]
  },
  {
   "cell_type": "markdown",
   "metadata": {},
   "source": [
    "获取数据"
   ]
  },
  {
   "cell_type": "code",
   "execution_count": 55,
   "metadata": {},
   "outputs": [
    {
     "data": {
      "text/plain": [
       "(   label  pixel0  pixel1  pixel2  pixel3  pixel4  pixel5  pixel6  pixel7  \\\n",
       " 0      1       0       0       0       0       0       0       0       0   \n",
       " 1      0       0       0       0       0       0       0       0       0   \n",
       " 2      1       0       0       0       0       0       0       0       0   \n",
       " 3      4       0       0       0       0       0       0       0       0   \n",
       " 4      0       0       0       0       0       0       0       0       0   \n",
       " \n",
       "    pixel8  ...  pixel774  pixel775  pixel776  pixel777  pixel778  pixel779  \\\n",
       " 0       0  ...         0         0         0         0         0         0   \n",
       " 1       0  ...         0         0         0         0         0         0   \n",
       " 2       0  ...         0         0         0         0         0         0   \n",
       " 3       0  ...         0         0         0         0         0         0   \n",
       " 4       0  ...         0         0         0         0         0         0   \n",
       " \n",
       "    pixel780  pixel781  pixel782  pixel783  \n",
       " 0         0         0         0         0  \n",
       " 1         0         0         0         0  \n",
       " 2         0         0         0         0  \n",
       " 3         0         0         0         0  \n",
       " 4         0         0         0         0  \n",
       " \n",
       " [5 rows x 785 columns],\n",
       " (42000, 785))"
      ]
     },
     "execution_count": 55,
     "metadata": {},
     "output_type": "execute_result"
    }
   ],
   "source": [
    "train = pd.read_csv('train.csv')\n",
    "train.head(), train.shape"
   ]
  },
  {
   "cell_type": "code",
   "execution_count": 71,
   "metadata": {},
   "outputs": [
    {
     "data": {
      "text/plain": [
       "(       pixel0  pixel1  pixel2  pixel3  pixel4  pixel5  pixel6  pixel7  pixel8  \\\n",
       " 0           0       0       0       0       0       0       0       0       0   \n",
       " 1           0       0       0       0       0       0       0       0       0   \n",
       " 2           0       0       0       0       0       0       0       0       0   \n",
       " 3           0       0       0       0       0       0       0       0       0   \n",
       " 4           0       0       0       0       0       0       0       0       0   \n",
       " ...       ...     ...     ...     ...     ...     ...     ...     ...     ...   \n",
       " 41995       0       0       0       0       0       0       0       0       0   \n",
       " 41996       0       0       0       0       0       0       0       0       0   \n",
       " 41997       0       0       0       0       0       0       0       0       0   \n",
       " 41998       0       0       0       0       0       0       0       0       0   \n",
       " 41999       0       0       0       0       0       0       0       0       0   \n",
       " \n",
       "        pixel9  ...  pixel774  pixel775  pixel776  pixel777  pixel778  \\\n",
       " 0           0  ...         0         0         0         0         0   \n",
       " 1           0  ...         0         0         0         0         0   \n",
       " 2           0  ...         0         0         0         0         0   \n",
       " 3           0  ...         0         0         0         0         0   \n",
       " 4           0  ...         0         0         0         0         0   \n",
       " ...       ...  ...       ...       ...       ...       ...       ...   \n",
       " 41995       0  ...         0         0         0         0         0   \n",
       " 41996       0  ...         0         0         0         0         0   \n",
       " 41997       0  ...         0         0         0         0         0   \n",
       " 41998       0  ...         0         0         0         0         0   \n",
       " 41999       0  ...         0         0         0         0         0   \n",
       " \n",
       "        pixel779  pixel780  pixel781  pixel782  pixel783  \n",
       " 0             0         0         0         0         0  \n",
       " 1             0         0         0         0         0  \n",
       " 2             0         0         0         0         0  \n",
       " 3             0         0         0         0         0  \n",
       " 4             0         0         0         0         0  \n",
       " ...         ...       ...       ...       ...       ...  \n",
       " 41995         0         0         0         0         0  \n",
       " 41996         0         0         0         0         0  \n",
       " 41997         0         0         0         0         0  \n",
       " 41998         0         0         0         0         0  \n",
       " 41999         0         0         0         0         0  \n",
       " \n",
       " [42000 rows x 784 columns],\n",
       " 0        1\n",
       " 1        0\n",
       " 2        1\n",
       " 3        4\n",
       " 4        0\n",
       "         ..\n",
       " 41995    0\n",
       " 41996    1\n",
       " 41997    7\n",
       " 41998    6\n",
       " 41999    9\n",
       " Name: label, Length: 42000, dtype: int64)"
      ]
     },
     "execution_count": 71,
     "metadata": {},
     "output_type": "execute_result"
    }
   ],
   "source": [
    "train_image = train.drop(columns=[\"label\"])\n",
    "train_label = train.loc[:, \"label\"]\n",
    "\n",
    "train_image, train_label"
   ]
  },
  {
   "cell_type": "markdown",
   "metadata": {},
   "source": [
    "查看具体图像"
   ]
  },
  {
   "cell_type": "code",
   "execution_count": 57,
   "metadata": {},
   "outputs": [],
   "source": [
    "train_image_values = train_image.iloc[0, :].values\n",
    "train_image_values=train_image_values.reshape(28, 28)"
   ]
  },
  {
   "cell_type": "code",
   "execution_count": 58,
   "metadata": {},
   "outputs": [
    {
     "data": {
      "image/png": "[encoded data removed]",
      "text/plain": [
       "<Figure size 640x480 with 1 Axes>"
      ]
     },
     "metadata": {},
     "output_type": "display_data"
    }
   ],
   "source": [
    "plt.imshow(train_image_values)\n",
    "plt.axis('off')\n",
    "plt.show()"
   ]
  },
  {
   "cell_type": "code",
   "execution_count": 59,
   "metadata": {},
   "outputs": [],
   "source": [
    "#自动化查看\n",
    "def to_plot(n):\n",
    "    num = train_image.iloc[n , :].values.reshape(28, 28)\n",
    "    plt.imshow(num)\n",
    "    plt.axis('off')\n",
    "    plt.show()"
   ]
  },
  {
   "cell_type": "code",
   "execution_count": 60,
   "metadata": {},
   "outputs": [
    {
     "data": {
      "image/png": "[encoded data removed]",
      "text/plain": [
       "<Figure size 640x480 with 1 Axes>"
      ]
     },
     "metadata": {},
     "output_type": "display_data"
    }
   ],
   "source": [
    "to_plot(n=3)"
   ]
  },
  {
   "cell_type": "markdown",
   "metadata": {},
   "source": [
    "数据处理"
   ]
  },
  {
   "cell_type": "code",
   "execution_count": 61,
   "metadata": {},
   "outputs": [],
   "source": [
    "#对数据特征值进行归一化处理\n",
    "train_image = train_image.values / 255\n",
    "\n",
    "train_label = train_label.values"
   ]
  },
  {
   "cell_type": "code",
   "execution_count": 62,
   "metadata": {},
   "outputs": [],
   "source": [
    "#数据集分割\n",
    "x_train,x_val, y_train,y_val = train_test_split(train_image, train_label, train_size=0.8, random_state=0)"
   ]
  },
  {
   "cell_type": "markdown",
   "metadata": {},
   "source": [
    "模型训练"
   ]
  },
  {
   "cell_type": "code",
   "execution_count": 63,
   "metadata": {},
   "outputs": [],
   "source": [
    "#数据降维，多次用pca确定最后的最优模型\n",
    "import time\n",
    "from sklearn.decomposition import PCA\n",
    "def n_componenta_analysis(n, x_train, y_train, x_val, y_val):\n",
    "    start_time = time.time()\n",
    "    pca = PCA(n_components=n)\n",
    "    print('特征降维，传递的参数为：{}'.format(n))\n",
    "    pca.fit(x_train)\n",
    "\n",
    "    #在训练集和测试集实现降维\n",
    "    x_train_pca = pca.transform(x_train)\n",
    "    x_val_pca = pca.transform(x_val)\n",
    "\n",
    "    #利用svc进行训练\n",
    "    print('开始用svc进行训练')\n",
    "    ss = svm.SVC()\n",
    "    ss.fit(x_train_pca, y_train)\n",
    "\n",
    "    #获取结果\n",
    "    accuracy = ss.score(x_val_pca, y_val)\n",
    "\n",
    "    end = time.time()\n",
    "    print(\"准确率是：{}， 消耗时间是：{}s\".format(accuracy, int(end-start_time)))\n",
    "    return accuracy"
   ]
  },
  {
   "cell_type": "code",
   "execution_count": 64,
   "metadata": {},
   "outputs": [
    {
     "name": "stdout",
     "output_type": "stream",
     "text": [
      "特征降维，传递的参数为：0.7\n",
      "开始用svc进行训练\n",
      "准确率是：0.9761904761904762， 消耗时间是：11s\n",
      "特征降维，传递的参数为：0.7374999999999999\n",
      "开始用svc进行训练\n",
      "准确率是：0.9779761904761904， 消耗时间是：11s\n",
      "特征降维，传递的参数为：0.7749999999999999\n",
      "开始用svc进行训练\n",
      "准确率是：0.9783333333333334， 消耗时间是：12s\n",
      "特征降维，传递的参数为：0.8125\n",
      "开始用svc进行训练\n",
      "准确率是：0.9798809523809524， 消耗时间是：14s\n",
      "特征降维，传递的参数为：0.85\n",
      "开始用svc进行训练\n",
      "准确率是：0.9803571428571428， 消耗时间是：18s\n"
     ]
    }
   ],
   "source": [
    "#传入多个n_components， 寻找合理的n\n",
    "n_s = np.linspace(0.70, 0.85, num=5)\n",
    "accuracy = []\n",
    "for n in n_s:\n",
    "    tmp = n_componenta_analysis(n, x_train, y_train, x_val, y_val)\n",
    "    accuracy.append(tmp)"
   ]
  },
  {
   "cell_type": "markdown",
   "metadata": {},
   "source": [
    "准确率可视化展示"
   ]
  },
  {
   "cell_type": "code",
   "execution_count": 65,
   "metadata": {},
   "outputs": [
    {
     "data": {
      "image/png": "[encoded data removed]",
      "text/plain": [
       "<Figure size 640x480 with 1 Axes>"
      ]
     },
     "metadata": {},
     "output_type": "display_data"
    }
   ],
   "source": [
    "plt.plot(n_s, np.array(accuracy), 'r')\n",
    "plt.show()"
   ]
  },
  {
   "cell_type": "markdown",
   "metadata": {},
   "source": [
    "确定最优模型\n"
   ]
  },
  {
   "cell_type": "code",
   "execution_count": 66,
   "metadata": {},
   "outputs": [
    {
     "data": {
      "text/plain": [
       "43"
      ]
     },
     "execution_count": 66,
     "metadata": {},
     "output_type": "execute_result"
    }
   ],
   "source": [
    "pca = PCA(n_components=0.80)\n",
    "pca.fit(x_train)\n",
    "pca.n_components_"
   ]
  },
  {
   "cell_type": "code",
   "execution_count": 67,
   "metadata": {},
   "outputs": [
    {
     "data": {
      "text/plain": [
       "((33600, 43), (8400, 43))"
      ]
     },
     "execution_count": 67,
     "metadata": {},
     "output_type": "execute_result"
    }
   ],
   "source": [
    "x_train_pca = pca.transform(x_train)\n",
    "x_val_pca = pca.transform(x_val)\n",
    "x_train_pca.shape, x_val_pca.shape"
   ]
  },
  {
   "cell_type": "code",
   "execution_count": 68,
   "metadata": {},
   "outputs": [
    {
     "data": {
      "text/plain": [
       "0.979047619047619"
      ]
     },
     "execution_count": 68,
     "metadata": {},
     "output_type": "execute_result"
    }
   ],
   "source": [
    "#训练比较优的模型\n",
    "ss1 = svm.SVC()\n",
    "\n",
    "ss1.fit(x_train_pca, y_train)\n",
    "\n",
    "ss1.score(x_val_pca, y_val)"
   ]
  },
  {
   "cell_type": "markdown",
   "metadata": {},
   "source": [
    "测试集驾到！\n"
   ]
  },
  {
   "cell_type": "code",
   "execution_count": 75,
   "metadata": {},
   "outputs": [
    {
     "data": {
      "text/plain": [
       "array([2, 0, 9, ..., 3, 9, 2], dtype=int64)"
      ]
     },
     "execution_count": 75,
     "metadata": {},
     "output_type": "execute_result"
    }
   ],
   "source": [
    "test_data = pd.read_csv('test.csv')\n",
    "test_data.head()\n",
    "\n",
    "#数据预处理\n",
    "test_image = test_data.values / 255\n",
    "x_test = pca.transform(test_image)\n",
    "\n",
    "y_predict = ss1.predict(x_test)\n",
    "y_predict"
   ]
  }
 ],
 "metadata": {
  "kernelspec": {
   "display_name": "d2l",
   "language": "python",
   "name": "python3"
  },
  "language_info": {
   "codemirror_mode": {
    "name": "ipython",
    "version": 3
   },
   "file_extension": ".py",
   "mimetype": "text/x-python",
   "name": "python",
   "nbconvert_exporter": "python",
   "pygments_lexer": "ipython3",
   "version": "3.9.18"
  }
 },
 "nbformat": 4,
 "nbformat_minor": 2
}
