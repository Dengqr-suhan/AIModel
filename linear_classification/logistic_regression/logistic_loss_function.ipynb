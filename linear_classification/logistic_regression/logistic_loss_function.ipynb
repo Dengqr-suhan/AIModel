{
 "cells": [
  {
   "cell_type": "code",
   "execution_count": null,
   "metadata": {},
   "outputs": [],
   "source": [
    "from sklearn.datasets import load_breast_cancer\n",
    "from sklearn.linear_model import LogisticRegression\n",
    "import numpy as np\n",
    "import matplotlib.pyplot as plt\n",
    "from mpl_toolkits.mplot3d import Axes3D\n",
    "from sklearn.preprocessing import scale"
   ]
  },
  {
   "cell_type": "code",
   "execution_count": null,
   "metadata": {},
   "outputs": [],
   "source": [
    "data = load_breast_cancer()\n",
    "data.feature_names"
   ]
  },
  {
   "cell_type": "code",
   "execution_count": null,
   "metadata": {},
   "outputs": [],
   "source": [
    "X, y = scale(data['data'][:, :2]), data['target']\n",
    "#求出两个维度对于数据在逻辑回归算法下的最优解\n",
    "lr = LogisticRegression(fit_intercept=False)\n",
    "lr.fit(X, y)"
   ]
  },
  {
   "cell_type": "code",
   "execution_count": null,
   "metadata": {},
   "outputs": [],
   "source": [
    "theta1 = lr.coef_[0,0]\n",
    "theta2 = lr.coef_[0,1]\n",
    "\n",
    "def P_theta_function(features, w1, w2):\n",
    "    z = w1*features[0] + w2*features[1]\n",
    "    return 1/(1 + np.exp(-z))\n",
    "\n",
    "def loss_function(samples_features, samples_labels, w1, w2):\n",
    "    result = 0\n",
    "    for features, label in zip(samples_features, samples_labels):\n",
    "        p_result = P_theta_function(features, w1, w2)\n",
    "        loss_result = -1*label*np.log(p_result) - (1-label)*np.log(1-p_result)\n",
    "        result += loss_result\n",
    "    return result"
   ]
  },
  {
   "cell_type": "code",
   "execution_count": null,
   "metadata": {},
   "outputs": [],
   "source": [
    "theta1_space = np.linspace(theta1-0.6, theta1+0.6, 50)\n",
    "theta2_space = np.linspace(theta2-0.6, theta2+0.6, 50)\n",
    "\n",
    "result1_ = np.array([loss_function(X, y, i, theta2) for i in theta1_space])\n",
    "result2_ = np.array([loss_function(X, y, i,theta1) for i in theta2_space])"
   ]
  },
  {
   "cell_type": "code",
   "execution_count": null,
   "metadata": {},
   "outputs": [],
   "source": [
    "fig1 = plt.figure(figsize=(8, 6))\n",
    "plt.subplot(2,2,1)\n",
    "plt.plot(theta1_space, result1_)\n",
    "\n",
    "plt.subplot(2,2,2)\n",
    "plt.plot(theta2_space, result2_)\n",
    "\n",
    "plt.subplot(2,2,3)\n",
    "theta1_grid, theta2_grid = np.meshgrid(theta1_space, theta2_space)\n",
    "loss_grid = loss_function(X, y, theta1_grid, theta2_grid)\n",
    "plt.contour(theta1_grid, theta2_grid, loss_grid)\n",
    "\n",
    "plt.subplot(2,2,4)\n",
    "plt.contour(theta1_grid, theta2_grid, loss_grid, 30)\n",
    "\n",
    "plt.show()"
   ]
  },
  {
   "cell_type": "code",
   "execution_count": null,
   "metadata": {},
   "outputs": [],
   "source": [
    "fig2 = plt.figure()\n",
    "ax = Axes3D(fig2)\n",
    "ax.plot_surface(theta1_grid, theta2_grid, loss_grid)\n",
    "fig2.add_axes(ax)\n",
    "plt.show()"
   ]
  }
 ],
 "metadata": {
  "kernelspec": {
   "display_name": "d2l",
   "language": "python",
   "name": "python3"
  },
  "language_info": {
   "codemirror_mode": {
    "name": "ipython",
    "version": 3
   },
   "file_extension": ".py",
   "mimetype": "text/x-python",
   "name": "python",
   "nbconvert_exporter": "python",
   "pygments_lexer": "ipython3",
   "version": "3.9.18"
  }
 },
 "nbformat": 4,
 "nbformat_minor": 2
}
