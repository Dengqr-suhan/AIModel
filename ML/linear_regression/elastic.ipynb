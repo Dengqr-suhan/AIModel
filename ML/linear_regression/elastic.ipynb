{
 "cells": [
  {
   "cell_type": "code",
   "execution_count": 20,
   "metadata": {},
   "outputs": [],
   "source": [
    "import numpy as np\n",
    "from sklearn.linear_model import ElasticNet\n",
    "from sklearn.linear_model import SGDRegressor"
   ]
  },
  {
   "cell_type": "code",
   "execution_count": 21,
   "metadata": {},
   "outputs": [],
   "source": [
    "X = 2*np.random.randn(100, 1)\n",
    "y = 4 + 3 * X + np.random.randn(100 ,1)"
   ]
  },
  {
   "cell_type": "code",
   "execution_count": 22,
   "metadata": {},
   "outputs": [
    {
     "name": "stdout",
     "output_type": "stream",
     "text": [
      "[8.23749399]\n"
     ]
    }
   ],
   "source": [
    "elastic_reg = ElasticNet(alpha=0.4, l1_ratio=0.15)\n",
    "elastic_reg.fit(X, y)\n",
    "print(elastic_reg.predict([[1.5]]))"
   ]
  },
  {
   "cell_type": "code",
   "execution_count": 23,
   "metadata": {},
   "outputs": [
    {
     "name": "stdout",
     "output_type": "stream",
     "text": [
      "[8.57192253]\n"
     ]
    }
   ],
   "source": [
    "sgd_reg = SGDRegressor(penalty='elasticnet', max_iter=1000)\n",
    "sgd_reg.fit(X, y.ravel())\n",
    "print(sgd_reg.predict([[1.5]]))"
   ]
  }
 ],
 "metadata": {
  "kernelspec": {
   "display_name": "d2l",
   "language": "python",
   "name": "python3"
  },
  "language_info": {
   "codemirror_mode": {
    "name": "ipython",
    "version": 3
   },
   "file_extension": ".py",
   "mimetype": "text/x-python",
   "name": "python",
   "nbconvert_exporter": "python",
   "pygments_lexer": "ipython3",
   "version": "3.9.18"
  }
 },
 "nbformat": 4,
 "nbformat_minor": 2
}
