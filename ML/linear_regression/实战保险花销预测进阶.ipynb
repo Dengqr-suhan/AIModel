{
 "cells": [
  {
   "cell_type": "code",
   "execution_count": null,
   "metadata": {},
   "outputs": [],
   "source": [
    "import numpy as np\n",
    "import pandas as pd\n",
    "data = pd.read_csv(\"insurance.csv\")\n",
    "data.head()"
   ]
  },
  {
   "cell_type": "markdown",
   "metadata": {},
   "source": [
    "EDA数据探索"
   ]
  },
  {
   "cell_type": "code",
   "execution_count": null,
   "metadata": {},
   "outputs": [],
   "source": [
    "import matplotlib.pyplot as plt\n",
    "%matplotlib inline\n",
    "plt.hist(data['charges'])\n",
    "plt.show()\n",
    "#线性回归 前提是假设y成正态分布\n",
    "plt.hist(np.log(data['charges']))"
   ]
  },
  {
   "cell_type": "code",
   "execution_count": null,
   "metadata": {},
   "outputs": [],
   "source": [
    "#进阶探索\n",
    "import seaborn as sns\n",
    "sns.kdeplot(data.loc[data.sex=='male','charges'], shade = True, label = 'male')\n",
    "sns.kdeplot(data.loc[data.sex=='female', 'charges'], shade = True, label = 'female')"
   ]
  },
  {
   "cell_type": "code",
   "execution_count": null,
   "metadata": {},
   "outputs": [],
   "source": [
    "sns.kdeplot(data.loc[data.region == 'northwest', 'charges'], shade = True, label = 'northwest')\n",
    "sns.kdeplot(data.loc[data.region == 'southwest', 'charges'], shade = True, label = 'southwest')\n",
    "sns.kdeplot(data.loc[data.region == 'northeast', 'charges'], shade = True, label = 'northeast')\n",
    "sns.kdeplot(data.loc[data.region == 'southeast', 'charges'], shade = True, label = 'southeast')"
   ]
  },
  {
   "cell_type": "code",
   "execution_count": null,
   "metadata": {},
   "outputs": [],
   "source": [
    "sns.kdeplot(data.loc[data.smoker=='yes', 'charges'], shade = True, label = 'smoker yes')\n",
    "sns.kdeplot(data.loc[data.smoker=='no', 'charges'], shade = True, label = 'smoker no')\n"
   ]
  },
  {
   "cell_type": "code",
   "execution_count": null,
   "metadata": {},
   "outputs": [],
   "source": [
    "sns.kdeplot(data.loc[data.children==0, 'charges'], shade=True, label = 'children 0')\n",
    "sns.kdeplot(data.loc[data.children==1, 'charges'], shade=True, label = 'children 1')\n",
    "sns.kdeplot(data.loc[data.children==2, 'charges'], shade=True, label = 'children 2')\n",
    "sns.kdeplot(data.loc[data.children==3, 'charges'], shade=True, label = 'children 3')\n",
    "sns.kdeplot(data.loc[data.children==4, 'charges'], shade=True, label = 'children 4')\n",
    "sns.kdeplot(data.loc[data.children==5, 'charges'], shade=True, label = 'children 5')\n"
   ]
  },
  {
   "cell_type": "markdown",
   "metadata": {},
   "source": [
    "特征工程"
   ]
  },
  {
   "cell_type": "code",
   "execution_count": null,
   "metadata": {},
   "outputs": [],
   "source": [
    "#对y影响不大的维度去掉\n",
    "data = data.drop(['region', 'sex'], axis=1)\n",
    "data.head()"
   ]
  },
  {
   "cell_type": "code",
   "execution_count": null,
   "metadata": {},
   "outputs": [],
   "source": [
    "#针对BMI与children这一列 把连续值变成离散值\n",
    "def greater(df, bmi, num_child):\n",
    "    df['bmi'] = 'over' if df['bmi'] >= bmi else 'under'\n",
    "    df['children'] = 'no' if df['children'] == num_child else 'yes'\n",
    "    return df\n",
    "\n",
    "data = data.apply(greater, axis=1, args=(30, 0))\n",
    "data\n"
   ]
  },
  {
   "cell_type": "code",
   "execution_count": null,
   "metadata": {},
   "outputs": [],
   "source": [
    "#one-hot编码\n",
    "data = pd.get_dummies(data)\n",
    "data"
   ]
  },
  {
   "cell_type": "code",
   "execution_count": null,
   "metadata": {},
   "outputs": [],
   "source": [
    "x =data.drop('charges', axis=1)\n",
    "y = data['charges']\n",
    "x.fillna(0, inplace=True)\n",
    "y.fillna(0, inplace=True)\n",
    "x.head()"
   ]
  },
  {
   "cell_type": "markdown",
   "metadata": {},
   "source": [
    "模型训练"
   ]
  },
  {
   "cell_type": "code",
   "execution_count": null,
   "metadata": {},
   "outputs": [],
   "source": [
    "from sklearn.model_selection import train_test_split\n",
    "x_train, x_test, y_train, y_test = train_test_split(x, y, test_size=0.3)\n",
    "\n",
    "from sklearn.preprocessing import PolynomialFeatures\n",
    "Poly_features = PolynomialFeatures(degree=2, include_bias=False)\n",
    "x_train_poly = Poly_features.fit_transform(x_train)\n",
    "x_test_poly = Poly_features.fit_transform(x_test)\n"
   ]
  },
  {
   "cell_type": "code",
   "execution_count": null,
   "metadata": {},
   "outputs": [],
   "source": [
    "from sklearn.linear_model import LinearRegression, Ridge\n",
    "from sklearn.ensemble import GradientBoostingRegressor\n",
    "\n",
    "reg = LinearRegression()\n",
    "ridge = Ridge()\n",
    "booster = GradientBoostingRegressor()"
   ]
  },
  {
   "cell_type": "code",
   "execution_count": null,
   "metadata": {},
   "outputs": [],
   "source": [
    "reg.fit(x_train_poly, np.log1p(y_train))\n",
    "ridge.fit(x_train_poly, np.log1p(y_train))\n",
    "booster.fit(x_train_poly, np.log1p(y_train))"
   ]
  },
  {
   "cell_type": "code",
   "execution_count": null,
   "metadata": {},
   "outputs": [],
   "source": [
    "y_predict = reg.predict(x_test_poly)\n",
    "y_predict_ridge = ridge.predict(x_test_poly)\n",
    "y_predict_booster = booster.predict(x_test_poly)\n"
   ]
  },
  {
   "cell_type": "markdown",
   "metadata": {},
   "source": [
    "模型评估"
   ]
  },
  {
   "cell_type": "code",
   "execution_count": null,
   "metadata": {},
   "outputs": [],
   "source": [
    "from sklearn.metrics import mean_squared_error\n",
    "log_rmse_train = np.sqrt(mean_squared_error(y_true=np.log1p(y_train), y_pred=reg.predict(x_train_poly)))\n",
    "log_rmse_test = np.sqrt(mean_squared_error(y_true=np.log1p(y_test), y_pred=y_predict))\n",
    "rmse_train = np.sqrt(mean_squared_error(y_true=y_train, y_pred=np.exp(reg.predict(x_train_poly))))\n",
    "rmse_test = np.sqrt(mean_squared_error(y_true=y_test, y_pred=np.exp(reg.predict(x_test_poly))))\n",
    "log_rmse_train, log_rmse_test, rmse_train, rmse_test"
   ]
  },
  {
   "cell_type": "code",
   "execution_count": null,
   "metadata": {},
   "outputs": [],
   "source": [
    "from sklearn.metrics import mean_squared_error\n",
    "log_rmse_train = np.sqrt(mean_squared_error(y_true=np.log1p(y_train), y_pred=ridge.predict(x_train_poly)))\n",
    "log_rmse_test = np.sqrt(mean_squared_error(y_true=np.log1p(y_test), y_pred=y_predict_ridge))\n",
    "rmse_train = np.sqrt(mean_squared_error(y_true=y_train, y_pred=np.exp(ridge.predict(x_train_poly))))\n",
    "rmse_test = np.sqrt(mean_squared_error(y_true=y_test, y_pred=np.exp(ridge.predict(x_test_poly))))\n",
    "log_rmse_train, log_rmse_test, rmse_train, rmse_test"
   ]
  },
  {
   "cell_type": "code",
   "execution_count": null,
   "metadata": {},
   "outputs": [],
   "source": [
    "from sklearn.metrics import mean_squared_error\n",
    "log_rmse_train = np.sqrt(mean_squared_error(y_true=np.log1p(y_train), y_pred=booster.predict(x_train_poly)))\n",
    "log_rmse_test = np.sqrt(mean_squared_error(y_true=np.log1p(y_test), y_pred=y_predict_booster))\n",
    "rmse_train = np.sqrt(mean_squared_error(y_true=y_train, y_pred=np.exp(booster.predict(x_train_poly))))\n",
    "rmse_test = np.sqrt(mean_squared_error(y_true=y_test, y_pred=np.exp(booster.predict(x_test_poly))))\n",
    "log_rmse_train, log_rmse_test, rmse_train, rmse_test"
   ]
  }
 ],
 "metadata": {
  "kernelspec": {
   "display_name": "d2l",
   "language": "python",
   "name": "python3"
  },
  "language_info": {
   "codemirror_mode": {
    "name": "ipython",
    "version": 3
   },
   "file_extension": ".py",
   "mimetype": "text/x-python",
   "name": "python",
   "nbconvert_exporter": "python",
   "pygments_lexer": "ipython3",
   "version": "3.9.18"
  }
 },
 "nbformat": 4,
 "nbformat_minor": 2
}
