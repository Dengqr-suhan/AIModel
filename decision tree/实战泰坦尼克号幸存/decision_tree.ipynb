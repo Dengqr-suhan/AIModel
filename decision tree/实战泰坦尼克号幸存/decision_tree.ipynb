{
 "cells": [
  {
   "cell_type": "code",
   "execution_count": null,
   "metadata": {},
   "outputs": [],
   "source": [
    "import pandas as pd\n",
    "import numpy  as np\n",
    "from sklearn.tree import DecisionTreeClassifier\n",
    "import sklearn.tree"
   ]
  },
  {
   "cell_type": "markdown",
   "metadata": {},
   "source": [
    "读取数据"
   ]
  },
  {
   "cell_type": "code",
   "execution_count": null,
   "metadata": {},
   "outputs": [],
   "source": [
    "titan_train = pd.read_csv('train.csv')\n",
    "titan_test = pd.read_csv('test.csv')\n",
    "test_Survived =pd.read_csv('gender_submission.csv')"
   ]
  },
  {
   "cell_type": "markdown",
   "metadata": {},
   "source": [
    "缺失值处理"
   ]
  },
  {
   "cell_type": "code",
   "execution_count": null,
   "metadata": {},
   "outputs": [],
   "source": [
    "missing_values_train = titan_train.isnull().sum()\n",
    "print(missing_values_train)\n",
    "missing_values_test = titan_test.isnull().sum()\n",
    "print(missing_values_test)\n",
    "import pandas as pd\n",
    "\n",
    "# 计算训练集中 \"Age\" 列的均值\n",
    "mean_age_train = titan_train['Age'].mean()\n",
    "\n",
    "# 用均值填补训练集中 \"Age\" 列的缺失值\n",
    "titan_train['Age'].fillna(mean_age_train, inplace=True)\n",
    "\n",
    "# 计算测试集中 \"Age\" 列的均值\n",
    "mean_age_test = titan_test['Age'].mean()\n",
    "\n",
    "# 用均值填补测试集中 \"Age\" 列的缺失值\n",
    "titan_test['Age'].fillna(mean_age_test, inplace=True)\n",
    "\n"
   ]
  },
  {
   "cell_type": "markdown",
   "metadata": {},
   "source": [
    "选择特征值和目标值"
   ]
  },
  {
   "cell_type": "code",
   "execution_count": null,
   "metadata": {},
   "outputs": [],
   "source": [
    "x_train = titan_train[['Pclass', 'Age', 'Sex']]\n",
    "x_test = titan_test[['Pclass', 'Age', 'Sex']]"
   ]
  },
  {
   "cell_type": "code",
   "execution_count": null,
   "metadata": {},
   "outputs": [],
   "source": [
    "y_train = titan_train['Survived']\n",
    "y_test = test_Survived['Survived']\n",
    "y_train, y_test"
   ]
  },
  {
   "cell_type": "markdown",
   "metadata": {},
   "source": [
    "特征工程——独热编码\n"
   ]
  },
  {
   "cell_type": "code",
   "execution_count": null,
   "metadata": {},
   "outputs": [],
   "source": [
    "x_train = pd.get_dummies(x_train)\n",
    "x_test = pd.get_dummies(x_test)\n",
    "x_train\n",
    "#发现Pclass这一列并没有被编码    pclass：Ticket class\t1 = 1st, 2 = 2nd, 3 = 3rd"
   ]
  },
  {
   "cell_type": "code",
   "execution_count": null,
   "metadata": {},
   "outputs": [],
   "source": [
    "#所以其实需要指定！\n",
    "x_train = pd.get_dummies(x_train, columns=['Pclass'])\n",
    "x_test = pd.get_dummies(x_test, columns=['Pclass'])\n",
    "x_train"
   ]
  },
  {
   "cell_type": "markdown",
   "metadata": {},
   "source": [
    "模型训练"
   ]
  },
  {
   "cell_type": "code",
   "execution_count": null,
   "metadata": {},
   "outputs": [],
   "source": [
    "clf = DecisionTreeClassifier(max_depth=5)\n",
    "clf.fit(x_train, y_train)"
   ]
  },
  {
   "cell_type": "markdown",
   "metadata": {},
   "source": [
    "模型评估"
   ]
  },
  {
   "cell_type": "code",
   "execution_count": null,
   "metadata": {},
   "outputs": [],
   "source": [
    "y_pre = clf.predict(x_test)\n",
    "ret = clf.score(x_test, y_test)\n",
    "y_pre, ret"
   ]
  },
  {
   "cell_type": "markdown",
   "metadata": {},
   "source": [
    "决策树可视化\n",
    "http://webgraphviz.com/"
   ]
  },
  {
   "cell_type": "code",
   "execution_count": null,
   "metadata": {},
   "outputs": [],
   "source": [
    "sklearn.tree.export_graphviz(clf, out_file=r\"C:\\Users\\18873\\Desktop\\python\\ML\\decision tree\\实战泰坦尼克号幸存\\tree.dot\", feature_names=['Age', 'Pclass=1', '女性', '男性'])"
   ]
  }
 ],
 "metadata": {
  "kernelspec": {
   "display_name": "d2l",
   "language": "python",
   "name": "python3"
  },
  "language_info": {
   "codemirror_mode": {
    "name": "ipython",
    "version": 3
   },
   "file_extension": ".py",
   "mimetype": "text/x-python",
   "name": "python",
   "nbconvert_exporter": "python",
   "pygments_lexer": "ipython3",
   "version": "3.9.18"
  }
 },
 "nbformat": 4,
 "nbformat_minor": 2
}
